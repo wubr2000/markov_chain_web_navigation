{
 "metadata": {
  "name": "",
  "signature": "sha256:ab65e00ff831a2691319627488d1d9d2eead13238879e7e3ba73c1df4b04964a"
 },
 "nbformat": 3,
 "nbformat_minor": 0,
 "worksheets": [
  {
   "cells": [
    {
     "cell_type": "code",
     "collapsed": false,
     "input": [
      "#Connect to sql database on laptop that reads web navigation history\n",
      "import pandas as pd\n",
      "import sqlite3\n",
      "con = sqlite3.connect('/Users/bwu/Library/Application Support/Google/Chrome/Default/History_cp')"
     ],
     "language": "python",
     "metadata": {},
     "outputs": [],
     "prompt_number": 2
    },
    {
     "cell_type": "code",
     "collapsed": false,
     "input": [
      "#Example SQL query that can be run\n",
      "pd.read_sql('SELECT name FROM sqlite_master where type = \"table\";', con)"
     ],
     "language": "python",
     "metadata": {},
     "outputs": [
      {
       "html": [
        "<div style=\"max-height:1000px;max-width:1500px;overflow:auto;\">\n",
        "<table border=\"1\" class=\"dataframe\">\n",
        "  <thead>\n",
        "    <tr style=\"text-align: right;\">\n",
        "      <th></th>\n",
        "      <th>name</th>\n",
        "    </tr>\n",
        "  </thead>\n",
        "  <tbody>\n",
        "    <tr>\n",
        "      <th>0</th>\n",
        "      <td>                 meta</td>\n",
        "    </tr>\n",
        "    <tr>\n",
        "      <th>1</th>\n",
        "      <td>                 urls</td>\n",
        "    </tr>\n",
        "    <tr>\n",
        "      <th>2</th>\n",
        "      <td>               visits</td>\n",
        "    </tr>\n",
        "    <tr>\n",
        "      <th>3</th>\n",
        "      <td>         visit_source</td>\n",
        "    </tr>\n",
        "    <tr>\n",
        "      <th>4</th>\n",
        "      <td> keyword_search_terms</td>\n",
        "    </tr>\n",
        "    <tr>\n",
        "      <th>5</th>\n",
        "      <td>            downloads</td>\n",
        "    </tr>\n",
        "    <tr>\n",
        "      <th>6</th>\n",
        "      <td> downloads_url_chains</td>\n",
        "    </tr>\n",
        "    <tr>\n",
        "      <th>7</th>\n",
        "      <td>             segments</td>\n",
        "    </tr>\n",
        "    <tr>\n",
        "      <th>8</th>\n",
        "      <td>        segment_usage</td>\n",
        "    </tr>\n",
        "  </tbody>\n",
        "</table>\n",
        "</div>"
       ],
       "metadata": {},
       "output_type": "pyout",
       "prompt_number": 3,
       "text": [
        "                   name\n",
        "0                  meta\n",
        "1                  urls\n",
        "2                visits\n",
        "3          visit_source\n",
        "4  keyword_search_terms\n",
        "5             downloads\n",
        "6  downloads_url_chains\n",
        "7              segments\n",
        "8         segment_usage"
       ]
      }
     ],
     "prompt_number": 3
    },
    {
     "cell_type": "code",
     "collapsed": false,
     "input": [
      "pd.read_sql('select * from urls limit 10', con)"
     ],
     "language": "python",
     "metadata": {},
     "outputs": [
      {
       "html": [
        "<div style=\"max-height:1000px;max-width:1500px;overflow:auto;\">\n",
        "<table border=\"1\" class=\"dataframe\">\n",
        "  <thead>\n",
        "    <tr style=\"text-align: right;\">\n",
        "      <th></th>\n",
        "      <th>id</th>\n",
        "      <th>url</th>\n",
        "      <th>title</th>\n",
        "      <th>visit_count</th>\n",
        "      <th>typed_count</th>\n",
        "      <th>last_visit_time</th>\n",
        "      <th>hidden</th>\n",
        "      <th>favicon_id</th>\n",
        "    </tr>\n",
        "  </thead>\n",
        "  <tbody>\n",
        "    <tr>\n",
        "      <th>0</th>\n",
        "      <td>  1</td>\n",
        "      <td>                           https://www.google.com/</td>\n",
        "      <td>                           Google</td>\n",
        "      <td> 17</td>\n",
        "      <td> 11</td>\n",
        "      <td> 13062043469729260</td>\n",
        "      <td> 0</td>\n",
        "      <td> 0</td>\n",
        "    </tr>\n",
        "    <tr>\n",
        "      <th>1</th>\n",
        "      <td>  2</td>\n",
        "      <td> https://www.google.com/intl/en/chrome/browser/...</td>\n",
        "      <td>                   Chrome Browser</td>\n",
        "      <td>  1</td>\n",
        "      <td>  0</td>\n",
        "      <td> 13055883010200000</td>\n",
        "      <td> 0</td>\n",
        "      <td> 0</td>\n",
        "    </tr>\n",
        "    <tr>\n",
        "      <th>2</th>\n",
        "      <td>  3</td>\n",
        "      <td>            https://www.google.com/chrome/browser/</td>\n",
        "      <td>                   Chrome Browser</td>\n",
        "      <td>  1</td>\n",
        "      <td>  0</td>\n",
        "      <td> 13055883004600000</td>\n",
        "      <td> 0</td>\n",
        "      <td> 0</td>\n",
        "    </tr>\n",
        "    <tr>\n",
        "      <th>3</th>\n",
        "      <td>  4</td>\n",
        "      <td> http://www.google.com/intl/en/chrome/browser/t...</td>\n",
        "      <td>                   Chrome Browser</td>\n",
        "      <td>  1</td>\n",
        "      <td>  0</td>\n",
        "      <td> 13055882788000000</td>\n",
        "      <td> 0</td>\n",
        "      <td> 0</td>\n",
        "    </tr>\n",
        "    <tr>\n",
        "      <th>4</th>\n",
        "      <td>  5</td>\n",
        "      <td> http://www.google.com/chrome/index.html?hl=en&amp;...</td>\n",
        "      <td>                           Chrome</td>\n",
        "      <td>  1</td>\n",
        "      <td>  0</td>\n",
        "      <td> 13055882778600000</td>\n",
        "      <td> 0</td>\n",
        "      <td> 0</td>\n",
        "    </tr>\n",
        "    <tr>\n",
        "      <th>5</th>\n",
        "      <td>  6</td>\n",
        "      <td> https://www.google.com/search?client=safari&amp;rl...</td>\n",
        "      <td>           chrome - Google Search</td>\n",
        "      <td>  1</td>\n",
        "      <td>  0</td>\n",
        "      <td> 13055882775800000</td>\n",
        "      <td> 0</td>\n",
        "      <td> 0</td>\n",
        "    </tr>\n",
        "    <tr>\n",
        "      <th>6</th>\n",
        "      <td>  7</td>\n",
        "      <td>                 http://jira/secure/Dashboard.jspa</td>\n",
        "      <td> System Dashboard - Move Inc JIRA</td>\n",
        "      <td> 16</td>\n",
        "      <td>  0</td>\n",
        "      <td> 13062534295706016</td>\n",
        "      <td> 0</td>\n",
        "      <td> 0</td>\n",
        "    </tr>\n",
        "    <tr>\n",
        "      <th>7</th>\n",
        "      <td>  8</td>\n",
        "      <td> https://www.google.com/search?client=safari&amp;rl...</td>\n",
        "      <td>            jira. - Google Search</td>\n",
        "      <td>  1</td>\n",
        "      <td>  0</td>\n",
        "      <td> 13055880620300000</td>\n",
        "      <td> 0</td>\n",
        "      <td> 0</td>\n",
        "    </tr>\n",
        "    <tr>\n",
        "      <th>8</th>\n",
        "      <td>  9</td>\n",
        "      <td> http://wiki/login.action;jsessionid=0FACA66A52...</td>\n",
        "      <td>               Log In - Move Wiki</td>\n",
        "      <td>  2</td>\n",
        "      <td>  0</td>\n",
        "      <td> 13055880612900000</td>\n",
        "      <td> 0</td>\n",
        "      <td> 0</td>\n",
        "    </tr>\n",
        "    <tr>\n",
        "      <th>9</th>\n",
        "      <td> 10</td>\n",
        "      <td>                http://intranet/Pages/Default.aspx</td>\n",
        "      <td>                             Home</td>\n",
        "      <td>  2</td>\n",
        "      <td>  0</td>\n",
        "      <td> 13056225534760545</td>\n",
        "      <td> 0</td>\n",
        "      <td> 0</td>\n",
        "    </tr>\n",
        "  </tbody>\n",
        "</table>\n",
        "</div>"
       ],
       "metadata": {},
       "output_type": "pyout",
       "prompt_number": 4,
       "text": [
        "   id                                                url  \\\n",
        "0   1                            https://www.google.com/   \n",
        "1   2  https://www.google.com/intl/en/chrome/browser/...   \n",
        "2   3             https://www.google.com/chrome/browser/   \n",
        "3   4  http://www.google.com/intl/en/chrome/browser/t...   \n",
        "4   5  http://www.google.com/chrome/index.html?hl=en&...   \n",
        "5   6  https://www.google.com/search?client=safari&rl...   \n",
        "6   7                  http://jira/secure/Dashboard.jspa   \n",
        "7   8  https://www.google.com/search?client=safari&rl...   \n",
        "8   9  http://wiki/login.action;jsessionid=0FACA66A52...   \n",
        "9  10                 http://intranet/Pages/Default.aspx   \n",
        "\n",
        "                              title  visit_count  typed_count  \\\n",
        "0                            Google           17           11   \n",
        "1                    Chrome Browser            1            0   \n",
        "2                    Chrome Browser            1            0   \n",
        "3                    Chrome Browser            1            0   \n",
        "4                            Chrome            1            0   \n",
        "5            chrome - Google Search            1            0   \n",
        "6  System Dashboard - Move Inc JIRA           16            0   \n",
        "7             jira. - Google Search            1            0   \n",
        "8                Log In - Move Wiki            2            0   \n",
        "9                              Home            2            0   \n",
        "\n",
        "     last_visit_time  hidden  favicon_id  \n",
        "0  13062043469729260       0           0  \n",
        "1  13055883010200000       0           0  \n",
        "2  13055883004600000       0           0  \n",
        "3  13055882788000000       0           0  \n",
        "4  13055882778600000       0           0  \n",
        "5  13055882775800000       0           0  \n",
        "6  13062534295706016       0           0  \n",
        "7  13055880620300000       0           0  \n",
        "8  13055880612900000       0           0  \n",
        "9  13056225534760545       0           0  "
       ]
      }
     ],
     "prompt_number": 4
    },
    {
     "cell_type": "code",
     "collapsed": false,
     "input": [
      "pd.read_sql('select * from visits limit 10', con)"
     ],
     "language": "python",
     "metadata": {},
     "outputs": [
      {
       "html": [
        "<div style=\"max-height:1000px;max-width:1500px;overflow:auto;\">\n",
        "<table border=\"1\" class=\"dataframe\">\n",
        "  <thead>\n",
        "    <tr style=\"text-align: right;\">\n",
        "      <th></th>\n",
        "      <th>id</th>\n",
        "      <th>url</th>\n",
        "      <th>visit_time</th>\n",
        "      <th>from_visit</th>\n",
        "      <th>transition</th>\n",
        "      <th>segment_id</th>\n",
        "      <th>visit_duration</th>\n",
        "    </tr>\n",
        "  </thead>\n",
        "  <tbody>\n",
        "    <tr>\n",
        "      <th>0</th>\n",
        "      <td>  1</td>\n",
        "      <td>  1</td>\n",
        "      <td> 13055883687500000</td>\n",
        "      <td> 0</td>\n",
        "      <td> 805306368</td>\n",
        "      <td> 0</td>\n",
        "      <td> 0</td>\n",
        "    </tr>\n",
        "    <tr>\n",
        "      <th>1</th>\n",
        "      <td>  2</td>\n",
        "      <td>  2</td>\n",
        "      <td> 13055883010200000</td>\n",
        "      <td> 0</td>\n",
        "      <td> 805306368</td>\n",
        "      <td> 0</td>\n",
        "      <td> 0</td>\n",
        "    </tr>\n",
        "    <tr>\n",
        "      <th>2</th>\n",
        "      <td>  3</td>\n",
        "      <td>  3</td>\n",
        "      <td> 13055883004600000</td>\n",
        "      <td> 0</td>\n",
        "      <td> 805306368</td>\n",
        "      <td> 0</td>\n",
        "      <td> 0</td>\n",
        "    </tr>\n",
        "    <tr>\n",
        "      <th>3</th>\n",
        "      <td>  4</td>\n",
        "      <td>  4</td>\n",
        "      <td> 13055882788000000</td>\n",
        "      <td> 0</td>\n",
        "      <td> 805306368</td>\n",
        "      <td> 0</td>\n",
        "      <td> 0</td>\n",
        "    </tr>\n",
        "    <tr>\n",
        "      <th>4</th>\n",
        "      <td>  5</td>\n",
        "      <td>  5</td>\n",
        "      <td> 13055882778600000</td>\n",
        "      <td> 0</td>\n",
        "      <td> 805306368</td>\n",
        "      <td> 0</td>\n",
        "      <td> 0</td>\n",
        "    </tr>\n",
        "    <tr>\n",
        "      <th>5</th>\n",
        "      <td>  6</td>\n",
        "      <td>  6</td>\n",
        "      <td> 13055882775800000</td>\n",
        "      <td> 0</td>\n",
        "      <td> 805306368</td>\n",
        "      <td> 0</td>\n",
        "      <td> 0</td>\n",
        "    </tr>\n",
        "    <tr>\n",
        "      <th>6</th>\n",
        "      <td>  7</td>\n",
        "      <td>  7</td>\n",
        "      <td> 13055880624300000</td>\n",
        "      <td> 0</td>\n",
        "      <td> 805306368</td>\n",
        "      <td> 0</td>\n",
        "      <td> 0</td>\n",
        "    </tr>\n",
        "    <tr>\n",
        "      <th>7</th>\n",
        "      <td>  8</td>\n",
        "      <td>  8</td>\n",
        "      <td> 13055880620300000</td>\n",
        "      <td> 0</td>\n",
        "      <td> 805306368</td>\n",
        "      <td> 0</td>\n",
        "      <td> 0</td>\n",
        "    </tr>\n",
        "    <tr>\n",
        "      <th>8</th>\n",
        "      <td>  9</td>\n",
        "      <td>  9</td>\n",
        "      <td> 13055880612900000</td>\n",
        "      <td> 0</td>\n",
        "      <td> 805306368</td>\n",
        "      <td> 0</td>\n",
        "      <td> 0</td>\n",
        "    </tr>\n",
        "    <tr>\n",
        "      <th>9</th>\n",
        "      <td> 10</td>\n",
        "      <td> 10</td>\n",
        "      <td> 13055880595500000</td>\n",
        "      <td> 0</td>\n",
        "      <td> 805306368</td>\n",
        "      <td> 0</td>\n",
        "      <td> 0</td>\n",
        "    </tr>\n",
        "  </tbody>\n",
        "</table>\n",
        "</div>"
       ],
       "metadata": {},
       "output_type": "pyout",
       "prompt_number": 5,
       "text": [
        "   id  url         visit_time  from_visit  transition  segment_id  \\\n",
        "0   1    1  13055883687500000           0   805306368           0   \n",
        "1   2    2  13055883010200000           0   805306368           0   \n",
        "2   3    3  13055883004600000           0   805306368           0   \n",
        "3   4    4  13055882788000000           0   805306368           0   \n",
        "4   5    5  13055882778600000           0   805306368           0   \n",
        "5   6    6  13055882775800000           0   805306368           0   \n",
        "6   7    7  13055880624300000           0   805306368           0   \n",
        "7   8    8  13055880620300000           0   805306368           0   \n",
        "8   9    9  13055880612900000           0   805306368           0   \n",
        "9  10   10  13055880595500000           0   805306368           0   \n",
        "\n",
        "   visit_duration  \n",
        "0               0  \n",
        "1               0  \n",
        "2               0  \n",
        "3               0  \n",
        "4               0  \n",
        "5               0  \n",
        "6               0  \n",
        "7               0  \n",
        "8               0  \n",
        "9               0  "
       ]
      }
     ],
     "prompt_number": 5
    },
    {
     "cell_type": "code",
     "collapsed": false,
     "input": [
      "df = pd.read_sql('SELECT u.url FROM visits v JOIN urls u on u.id = v.url ORDER BY visit_time', con)"
     ],
     "language": "python",
     "metadata": {},
     "outputs": [],
     "prompt_number": 6
    },
    {
     "cell_type": "code",
     "collapsed": false,
     "input": [
      "df.head(10)"
     ],
     "language": "python",
     "metadata": {},
     "outputs": [
      {
       "html": [
        "<div style=\"max-height:1000px;max-width:1500px;overflow:auto;\">\n",
        "<table border=\"1\" class=\"dataframe\">\n",
        "  <thead>\n",
        "    <tr style=\"text-align: right;\">\n",
        "      <th></th>\n",
        "      <th>url</th>\n",
        "    </tr>\n",
        "  </thead>\n",
        "  <tbody>\n",
        "    <tr>\n",
        "      <th>0</th>\n",
        "      <td>                   http://www.usell.com/</td>\n",
        "    </tr>\n",
        "    <tr>\n",
        "      <th>1</th>\n",
        "      <td> https://mail.google.com/mail/u/0/#inbox</td>\n",
        "    </tr>\n",
        "    <tr>\n",
        "      <th>2</th>\n",
        "      <td> https://mail.google.com/mail/u/0/#inbox</td>\n",
        "    </tr>\n",
        "    <tr>\n",
        "      <th>3</th>\n",
        "      <td>           http://www.benderconsult.com/</td>\n",
        "    </tr>\n",
        "    <tr>\n",
        "      <th>4</th>\n",
        "      <td> https://mail.google.com/mail/u/0/#inbox</td>\n",
        "    </tr>\n",
        "    <tr>\n",
        "      <th>5</th>\n",
        "      <td>                 http://www.hotmail.com/</td>\n",
        "    </tr>\n",
        "    <tr>\n",
        "      <th>6</th>\n",
        "      <td>                   https://www.yelp.com/</td>\n",
        "    </tr>\n",
        "    <tr>\n",
        "      <th>7</th>\n",
        "      <td>                   https://www.yelp.com/</td>\n",
        "    </tr>\n",
        "    <tr>\n",
        "      <th>8</th>\n",
        "      <td>                 http://www.hotmail.com/</td>\n",
        "    </tr>\n",
        "    <tr>\n",
        "      <th>9</th>\n",
        "      <td>              http://www.craigslist.org/</td>\n",
        "    </tr>\n",
        "  </tbody>\n",
        "</table>\n",
        "</div>"
       ],
       "metadata": {},
       "output_type": "pyout",
       "prompt_number": 7,
       "text": [
        "                                       url\n",
        "0                    http://www.usell.com/\n",
        "1  https://mail.google.com/mail/u/0/#inbox\n",
        "2  https://mail.google.com/mail/u/0/#inbox\n",
        "3            http://www.benderconsult.com/\n",
        "4  https://mail.google.com/mail/u/0/#inbox\n",
        "5                  http://www.hotmail.com/\n",
        "6                    https://www.yelp.com/\n",
        "7                    https://www.yelp.com/\n",
        "8                  http://www.hotmail.com/\n",
        "9               http://www.craigslist.org/"
       ]
      }
     ],
     "prompt_number": 7
    },
    {
     "cell_type": "code",
     "collapsed": false,
     "input": [
      "df.shape"
     ],
     "language": "python",
     "metadata": {},
     "outputs": [
      {
       "metadata": {},
       "output_type": "pyout",
       "prompt_number": 8,
       "text": [
        "(18940, 1)"
       ]
      }
     ],
     "prompt_number": 8
    },
    {
     "cell_type": "markdown",
     "metadata": {},
     "source": [
      "###Use URLPARSE library to parse URL names"
     ]
    },
    {
     "cell_type": "code",
     "collapsed": false,
     "input": [
      "import urlparse"
     ],
     "language": "python",
     "metadata": {},
     "outputs": [],
     "prompt_number": 9
    },
    {
     "cell_type": "code",
     "collapsed": false,
     "input": [
      "#A usage example - if only care about the main website, use 'netloc'\n",
      "urlparse.urlparse('https://mail.google.com/mail/u/0/#inbox')"
     ],
     "language": "python",
     "metadata": {},
     "outputs": [
      {
       "metadata": {},
       "output_type": "pyout",
       "prompt_number": 10,
       "text": [
        "ParseResult(scheme='https', netloc='mail.google.com', path='/mail/u/0/', params='', query='', fragment='inbox')"
       ]
      }
     ],
     "prompt_number": 10
    },
    {
     "cell_type": "code",
     "collapsed": false,
     "input": [
      "df['clean_url'] = df['url'].map(lambda r: urlparse.urlparse(r).netloc.replace('www.',''))"
     ],
     "language": "python",
     "metadata": {},
     "outputs": [],
     "prompt_number": 11
    },
    {
     "cell_type": "code",
     "collapsed": false,
     "input": [
      "df['clean_url'].value_counts()"
     ],
     "language": "python",
     "metadata": {},
     "outputs": [
      {
       "metadata": {},
       "output_type": "pyout",
       "prompt_number": 12,
       "text": [
        "google.com                               5049\n",
        "bay169.mail.live.com                     2660\n",
        "github.com                                801\n",
        "localhost:8888                            662\n",
        "stackoverflow.com                         655\n",
        "daz02sql2700.corp.homestore.net:50030     570\n",
        "docs.google.com                           528\n",
        "scikit-learn.org                          345\n",
        "jira                                      269\n",
        "meetup.com                                239\n",
        "mail.google.com                           210\n",
        "wiki                                      202\n",
        "localhost:8889                            191\n",
        "youtube.com                               182\n",
        "hotmail.com                               177\n",
        "...\n",
        "stackauth.com               1\n",
        "blogs.msdn.com              1\n",
        "us.lrd.yahoo.com            1\n",
        "themenuindia.com            1\n",
        "tools.google.com            1\n",
        "students.mimuw.edu.pl       1\n",
        "filext.com                  1\n",
        "underscoreg.com             1\n",
        "cobweb.cs.uga.edu           1\n",
        "udec.edu.mx                 1\n",
        "sharphadoop.codeplex.com    1\n",
        "codementor.io               1\n",
        "verizonwireless.com         1\n",
        "login.citrixonline.com      1\n",
        "secdev.org                  1\n",
        "Length: 1019, dtype: int64"
       ]
      }
     ],
     "prompt_number": 12
    },
    {
     "cell_type": "code",
     "collapsed": false,
     "input": [
      "#Use pandas SHIFT() function to shift all data DOWN rows\n",
      "df['clean_url'].head(5)"
     ],
     "language": "python",
     "metadata": {},
     "outputs": [
      {
       "metadata": {},
       "output_type": "pyout",
       "prompt_number": 13,
       "text": [
        "0            usell.com\n",
        "1      mail.google.com\n",
        "2      mail.google.com\n",
        "3    benderconsult.com\n",
        "4      mail.google.com\n",
        "Name: clean_url, dtype: object"
       ]
      }
     ],
     "prompt_number": 13
    },
    {
     "cell_type": "code",
     "collapsed": false,
     "input": [
      "df['clean_url'].shift(1).head(5)"
     ],
     "language": "python",
     "metadata": {},
     "outputs": [
      {
       "metadata": {},
       "output_type": "pyout",
       "prompt_number": 14,
       "text": [
        "0                  NaN\n",
        "1            usell.com\n",
        "2      mail.google.com\n",
        "3      mail.google.com\n",
        "4    benderconsult.com\n",
        "Name: clean_url, dtype: object"
       ]
      }
     ],
     "prompt_number": 14
    },
    {
     "cell_type": "code",
     "collapsed": false,
     "input": [
      "#Create a new column that contains all URL shifted by 1\n",
      "df['previous_clean_url'] = df['clean_url'].shift(1)"
     ],
     "language": "python",
     "metadata": {},
     "outputs": [],
     "prompt_number": 15
    },
    {
     "cell_type": "markdown",
     "metadata": {},
     "source": [
      "> Important step - Count # of times one has gone from one page to another"
     ]
    },
    {
     "cell_type": "code",
     "collapsed": false,
     "input": [
      "data = df.groupby(['previous_clean_url', 'clean_url',])['url'].count()"
     ],
     "language": "python",
     "metadata": {},
     "outputs": [],
     "prompt_number": 16
    },
    {
     "cell_type": "code",
     "collapsed": false,
     "input": [
      "data"
     ],
     "language": "python",
     "metadata": {},
     "outputs": [
      {
       "metadata": {},
       "output_type": "pyout",
       "prompt_number": 17,
       "text": [
        "previous_clean_url     clean_url               \n",
        "                                                   5\n",
        "                       audible.com                 1\n",
        "                       google.com                  2\n",
        "                       hotmail.com                 2\n",
        "                       joelcadwell.blogspot.com    1\n",
        "                       localhost:8888              3\n",
        "                       localhost:8889              2\n",
        "                       mondaypunday.com            1\n",
        "                       nbviewer.ipython.org        1\n",
        "                       quantopian.com              1\n",
        "                       scottrade.com               1\n",
        "                       stackoverflow.com           2\n",
        "                       yahoo.com.hk                1\n",
        "1.salford-systems.com  google.com                  1\n",
        "16891689.com           tvwu.com                    1\n",
        "...\n",
        "youtube.com              surveymonkey.com                   1\n",
        "                         technocalifornia.blogspot.com      2\n",
        "                         weibo.com                          1\n",
        "                         youtube.com                      125\n",
        "zillow.com               bay169.mail.live.com               1\n",
        "zipfianacademy.com       glassdoor.com                      1\n",
        "                         google.com                         1\n",
        "                         hotmail.com                        3\n",
        "                         mail.google.com                    2\n",
        "                         zipfianacademy.com                 6\n",
        "                         zm10.pobox.stanford.edu            1\n",
        "zm10.pobox.stanford.edu  webmail.stanford.edu               1\n",
        "zocdoc.com               google.com                         2\n",
        "                         member.aetna.com                   1\n",
        "                         zocdoc.com                         8\n",
        "Name: url, Length: 3305, dtype: int64"
       ]
      }
     ],
     "prompt_number": 17
    },
    {
     "cell_type": "code",
     "collapsed": false,
     "input": [
      "#All pages visited AFTER visting github.com\n",
      "data.ix['github.com']"
     ],
     "language": "python",
     "metadata": {},
     "outputs": [
      {
       "metadata": {},
       "output_type": "pyout",
       "prompt_number": 18,
       "text": [
        "clean_url\n",
        "adgit.corp.homestore.net              1\n",
        "baidu.com                             1\n",
        "bay169.mail.live.com                  9\n",
        "bayesianwitch.com                     1\n",
        "bim                                   1\n",
        "blog.echen.me                         3\n",
        "blogs.ischool.berkeley.edu            1\n",
        "chrisstucchio.com                     1\n",
        "codeascraft.com                       8\n",
        "continuum.io                          2\n",
        "cs.utexas.edu                         1\n",
        "dataorigami.net                       1\n",
        "erikbern.com                          1\n",
        "fastml.com                            1\n",
        "gist.github.com                       5\n",
        "github.com                          661\n",
        "gmail.com                             1\n",
        "goo.gl                                1\n",
        "google.com                           58\n",
        "hakkalabs.co                          5\n",
        "hotmail.com                           2\n",
        "localhost:8888                       10\n",
        "localhost:8889                        3\n",
        "mac.github.com                        1\n",
        "mail.live.com                         1\n",
        "maps.google.com                       1\n",
        "metaoptimize.com                      1\n",
        "mijlebbfndhelmdpmllgcfadlkankhok      1\n",
        "move.box.com                          1\n",
        "nbviewer.ipython.org                  2\n",
        "pandas.pydata.org                     2\n",
        "patsy.readthedocs.org                 1\n",
        "premconf.webex.com                    1\n",
        "pypi.python.org                       1\n",
        "realtor.com                           1\n",
        "scottrade.com                         1\n",
        "slideshare.net                        3\n",
        "stackoverflow.com                     2\n",
        "static.googleusercontent.com          1\n",
        "t.co                                  1\n",
        "tanin.nanakorn.com                    1\n",
        "Name: url, dtype: int64"
       ]
      }
     ],
     "prompt_number": 18
    },
    {
     "cell_type": "code",
     "collapsed": false,
     "input": [
      "totals = data.sum(level=0)"
     ],
     "language": "python",
     "metadata": {},
     "outputs": [],
     "prompt_number": 19
    },
    {
     "cell_type": "code",
     "collapsed": false,
     "input": [
      "normed_data = data/totals #only works because of common indexes."
     ],
     "language": "python",
     "metadata": {},
     "outputs": [],
     "prompt_number": 20
    },
    {
     "cell_type": "code",
     "collapsed": false,
     "input": [
      "normed_data"
     ],
     "language": "python",
     "metadata": {},
     "outputs": [
      {
       "metadata": {},
       "output_type": "pyout",
       "prompt_number": 21,
       "text": [
        "previous_clean_url     clean_url               \n",
        "                                                   0.217391\n",
        "                       audible.com                 0.043478\n",
        "                       google.com                  0.086957\n",
        "                       hotmail.com                 0.086957\n",
        "                       joelcadwell.blogspot.com    0.043478\n",
        "                       localhost:8888              0.130435\n",
        "                       localhost:8889              0.086957\n",
        "                       mondaypunday.com            0.043478\n",
        "                       nbviewer.ipython.org        0.043478\n",
        "                       quantopian.com              0.043478\n",
        "                       scottrade.com               0.043478\n",
        "                       stackoverflow.com           0.086957\n",
        "                       yahoo.com.hk                0.043478\n",
        "1.salford-systems.com  google.com                  1.000000\n",
        "16891689.com           tvwu.com                    1.000000\n",
        "...\n",
        "youtube.com              surveymonkey.com                 0.005495\n",
        "                         technocalifornia.blogspot.com    0.010989\n",
        "                         weibo.com                        0.005495\n",
        "                         youtube.com                      0.686813\n",
        "zillow.com               bay169.mail.live.com             1.000000\n",
        "zipfianacademy.com       glassdoor.com                    0.071429\n",
        "                         google.com                       0.071429\n",
        "                         hotmail.com                      0.214286\n",
        "                         mail.google.com                  0.142857\n",
        "                         zipfianacademy.com               0.428571\n",
        "                         zm10.pobox.stanford.edu          0.071429\n",
        "zm10.pobox.stanford.edu  webmail.stanford.edu             1.000000\n",
        "zocdoc.com               google.com                       0.181818\n",
        "                         member.aetna.com                 0.090909\n",
        "                         zocdoc.com                       0.727273\n",
        "Name: url, Length: 3305, dtype: float64"
       ]
      }
     ],
     "prompt_number": 21
    },
    {
     "cell_type": "code",
     "collapsed": false,
     "input": [
      "normed_data.ix['github.com'].sum()"
     ],
     "language": "python",
     "metadata": {},
     "outputs": [
      {
       "metadata": {},
       "output_type": "pyout",
       "prompt_number": 22,
       "text": [
        "1.0"
       ]
      }
     ],
     "prompt_number": 22
    },
    {
     "cell_type": "markdown",
     "metadata": {},
     "source": [
      "> Create a function to select randomly (using numpy random.multinomial) where to go next\n",
      "\n",
      "> Very Important - draw elements proportional to their probability "
     ]
    },
    {
     "cell_type": "code",
     "collapsed": false,
     "input": [
      "steps = 1000\n",
      "initial_url = 'github.com'\n",
      "url = initial_url\n",
      "p=1."
     ],
     "language": "python",
     "metadata": {},
     "outputs": [],
     "prompt_number": 23
    },
    {
     "cell_type": "code",
     "collapsed": false,
     "input": [
      "import numpy as np\n",
      "\n",
      "def sample_url(df):\n",
      "    ix = np.random.multinomial(1, df ).argmax()\n",
      "    return df.index[ix], df.ix[ix]"
     ],
     "language": "python",
     "metadata": {},
     "outputs": [],
     "prompt_number": 24
    },
    {
     "cell_type": "code",
     "collapsed": false,
     "input": [
      "sample_url(normed_data.ix['github.com'])"
     ],
     "language": "python",
     "metadata": {},
     "outputs": [
      {
       "metadata": {},
       "output_type": "pyout",
       "prompt_number": 25,
       "text": [
        "(u'github.com', 0.82521847690387018)"
       ]
      }
     ],
     "prompt_number": 25
    },
    {
     "cell_type": "markdown",
     "metadata": {},
     "source": [
      "> Create an artificial navigation path based on prior browse history"
     ]
    },
    {
     "cell_type": "code",
     "collapsed": false,
     "input": [
      "for i in range(steps):\n",
      "    print url,\n",
      "    url, p = sample_url(normed_data.ix[url])"
     ],
     "language": "python",
     "metadata": {},
     "outputs": [
      {
       "output_type": "stream",
       "stream": "stdout",
       "text": [
        "github.com github.com github.com github.com github.com github.com github.com bay169.mail.live.com bay169.mail.live.com bay169.mail.live.com bay169.mail.live.com bay169.mail.live.com bay169.mail.live.com bay169.mail.live.com bay169.mail.live.com bay169.mail.live.com bay169.mail.live.com bay169.mail.live.com bay169.mail.live.com bay169.mail.live.com bay169.mail.live.com bay169.mail.live.com bay169.mail.live.com bay169.mail.live.com bay169.mail.live.com bay169.mail.live.com bay169.mail.live.com bay169.mail.live.com bay169.mail.live.com bay169.mail.live.com bay169.mail.live.com bay169.mail.live.com bay169.mail.live.com bay169.mail.live.com bay169.mail.live.com bay169.mail.live.com bay169.mail.live.com bay169.mail.live.com bay169.mail.live.com bay169.mail.live.com bay169.mail.live.com bay169.mail.live.com bay169.mail.live.com bay169.mail.live.com bay169.mail.live.com bay169.mail.live.com videolectures.net daz02sql2700.corp.homestore.net:50030 daz02sql2700.corp.homestore.net:50030 daz02sql2700.corp.homestore.net:50030 daz02sql2700.corp.homestore.net:50030 daz02sql2700.corp.homestore.net:50030 daz02sql2700.corp.homestore.net:50030 daz02sql2700.corp.homestore.net:50030 daz02sql2700.corp.homestore.net:50030 daz02sql2700.corp.homestore.net:50030 daz02sql2700.corp.homestore.net:50030 daz02sql2700.corp.homestore.net:50030 bmwusa.com bmwusa.com bmwusa.com bmwusa.com daz02sql2700.corp.homestore.net:50030 daz02sql2700.corp.homestore.net:50030 daz02sql2700.corp.homestore.net:50030 daz02sql2700.corp.homestore.net:50030 daz02sql2700.corp.homestore.net:50030 daz02sql2700.corp.homestore.net:50030 daz02sql2700.corp.homestore.net:50030 daz02sql2700.corp.homestore.net:50030 daz02sql2700.corp.homestore.net:50030 daz02sql2700.corp.homestore.net:50030 daz02sql2700.corp.homestore.net:50030 daz02sql2700.corp.homestore.net:50030 daz02sql2700.corp.homestore.net:50030 daz02sql2700.corp.homestore.net:50030 daz02sql2700.corp.homestore.net:50030 daz02sql2700.corp.homestore.net:50030 daz02sql2700.corp.homestore.net:50030 daz02sql2700.corp.homestore.net:50030 daz02sql2700.corp.homestore.net:50030 daz02sql2700.corp.homestore.net:50030 localhost:8888 localhost:8888 google.com arxiv-web3.library.cornell.edu surveymonkey.com surveymonkey.com surveymonkey.com surveymonkey.com surveymonkey.com "
       ]
      },
      {
       "output_type": "stream",
       "stream": "stdout",
       "text": [
        "surveymonkey.com bay169.mail.live.com bay169.mail.live.com bay169.mail.live.com localhost:8888 localhost:8888 hotmail.com localhost:8888 localhost:8888 google.com google.com maps.google.com hotmail.com twitter.com twitter.com twitter.com datascienceweekly.us3.list-manage.com static.googleusercontent.com datascienceweekly.us3.list-manage.com simplystatistics.org datascienceweekly.us3.list-manage1.com brianckeegan.com stats.stackexchange.com google.com google.com dmv.ca.gov dmv.ca.gov dmv.ca.gov dmv.ca.gov dmv.ca.gov dmv.ca.gov dmv.ca.gov dmv.ca.gov dmv.ca.gov dmv.ca.gov dmv.ca.gov realtor.com realtor.com realtor.com realtor.com realtor.com realtor.com realtor.com realtor.com realtor.com sc2.omniture.com sc2.omniture.com sc2.omniture.com sc2.omniture.com sc2.omniture.com sc2.omniture.com sc2.omniture.com sc2.omniture.com sc2.omniture.com sc2.omniture.com sc2.omniture.com sc2.omniture.com sc2.omniture.com wiki wiki wiki wiki wiki wiki wiki wiki wiki wiki wiki wiki wiki wiki wiki wiki wiki wiki wiki wiki wiki wiki wiki intranet intranet intranet intranet intranet intranet intranet intranet intranet intranet intranet intranet intranet intranet intranet intranet intranet intranet intranet intranet intranet intranet adpeet.adphc.com adpeet.adphc.com adpeet.adphc.com localhost:8888 localhost:8888 localhost:8888 "
       ]
      },
      {
       "output_type": "stream",
       "stream": "stdout",
       "text": [
        "localhost:8889 localhost:8888 localhost:8888 localhost:8888 google.com stackoverflow.com localhost:8888 google.com google.com stackoverflow.com google.com google.com google.com pubs.vmware.com pubs.vmware.com google.com google.com google.com google.com google.com google.com stackoverflow.com hotmail.com mail.live.com login.live.com bay169.mail.live.com google.com ibm.com bay169.mail.live.com twitter.com twitter.com twitter.com twitter.com twitter.com twitter.com twitter.com t.co bit.ly reddit.com google.com google.com idictate.us stackanswers.com google.com google.com google.com scikit-learn.org scikit-learn.org localhost:8888 google.com code.activestate.com google.com pnas.org google.com google.com scikit-learn.org google.com google.com google.com google.com stackoverflow.com google.com technet.microsoft.com google.com coderwall.com goo.gl icloud.com icloud.com icloud.com icloud.com icloud.com google.com jira jira jira jira jira jira jira jira jira jira jira jira jira jira jira jira jira jira en.wikipedia.org mail.python.org google.com google.com stackoverflow.com localhost:8888 google.com aetna.com aetna.com aetna.com aetna.com aetna.com member.aetna.com "
       ]
      },
      {
       "output_type": "stream",
       "stream": "stdout",
       "text": [
        "member.aetna.com member.aetna.com member.aetna.com member.aetna.com member.aetna.com member.aetna.com member.aetna.com member.aetna.com member.aetna.com member.aetna.com member.aetna.com member.aetna.com member.aetna.com www1.aetna.com www1.aetna.com member.aetna.com member.aetna.com member.aetna.com member.aetna.com member.aetna.com member.aetna.com member.aetna.com member.aetna.com member.aetna.com member.aetna.com member.aetna.com www1.aetna.com www1.aetna.com yelp.com bh-fitness.com google.com google.com google.com google.com stackoverflow.com localhost:8888 localhost:8888 bay169.mail.live.com bay169.mail.live.com letv.com dotdotbuy.com taobao.com en.wikipedia.org google.com google.com google.com google.com pandas.pydata.org google.com qualtrics.com localhost:8888 localhost:8888 localhost:8888 localhost:8888 google.com google.com google.com google.com google.com google.com qnalist.com google.com stackoverflow.com localhost:8888 localhost:8888 nbviewer.ipython.org localhost:8889 localhost:8889 localhost:8889 jira jira jira jira jira jira jira jira jira jira jira jira jira jira jira jira jira goo.gl think.storage.googleapis.com localhost:8888 localhost:8888 google.com reverseengineering.stackexchange.com google.com pandas.pydata.org google.com stackoverflow.com google.com google.com google.com google.com docs.python.org google.com google.com pandas.pydata.org google.com google.com hotmail.com hyatt.com craigslist.org cars.com "
       ]
      },
      {
       "output_type": "stream",
       "stream": "stdout",
       "text": [
        "kbb.com cars.com hsbc.com.hk youtube.com youtube.com youtube.com google.com msmbuilder-mixtape.s3-website-us-west-1.amazonaws.com google.com google.com google.com google.com hadoopwizard.com google.com google.com blog.yhathq.com archive.ics.uci.edu blog.yhathq.com scikit-learn.org google.com mail.live.com login.live.com bay169.mail.live.com bay169.mail.live.com google.com stackoverflow.com stackoverflow.com stackoverflow.com google.com google.com google.com nbviewer.ipython.org nbviewer.ipython.org nbviewer.ipython.org localhost:8888 localhost:8888 google.com docs.scipy.org localhost:8888 localhost:8888 localhost:8888 daz02sql2700.corp.homestore.net:50030 daz02sql2700.corp.homestore.net:50030 daz02sql2700.corp.homestore.net:50030 daz02sql2700.corp.homestore.net:50030 daz02sql2700.corp.homestore.net:50030 daz02sql2700.corp.homestore.net:50030 daz02sql2700.corp.homestore.net:50030 daz02sql2700.corp.homestore.net:50030 daz02sql2700.corp.homestore.net:50030 daz02sql2700.corp.homestore.net:50030 daz02sql2700.corp.homestore.net:50030 daz02sql2700.corp.homestore.net:50030 daz02sql2700.corp.homestore.net:50030 daz02sql2700.corp.homestore.net:50030 daz02sql2700.corp.homestore.net:50030 daz02sql2700.corp.homestore.net:50030 daz02sql2700.corp.homestore.net:50030 daz02sql2700.corp.homestore.net:50030 daz02sql2700.corp.homestore.net:50030 bay169.mail.live.com bay169.mail.live.com bay169.mail.live.com bay169.mail.live.com bay169.mail.live.com google.com bay169.mail.live.com bay169.mail.live.com bay169.mail.live.com bay169.mail.live.com bay169.mail.live.com bay169.mail.live.com bay169.mail.live.com bay169.mail.live.com bay169.mail.live.com bay169.mail.live.com bay169.mail.live.com bay169.mail.live.com bay169.mail.live.com bay169.mail.live.com bay169.mail.live.com bay169.mail.live.com "
       ]
      },
      {
       "output_type": "stream",
       "stream": "stdout",
       "text": [
        "bay169.mail.live.com bay169.mail.live.com bay169.mail.live.com bay169.mail.live.com bay169.mail.live.com bay169.mail.live.com bay169.mail.live.com bay169.mail.live.com bay169.mail.live.com bay169.mail.live.com bay169.mail.live.com bay169.mail.live.com bay169.mail.live.com bay169.mail.live.com bay169.mail.live.com bay169.mail.live.com udacity.com udacity.com hotmail.com hotmail.com facebook.com facebook.com facebook.com facebook.com te.cpim.windows.net google.com google.com ballyfitness.com google.com google.com github.com google.com docs.scipy.org google.com bugs.python.org google.com stackoverflow.com google.com lifehappens.org home.eease.com home.eease.com home.eease.com home.eease.com home.eease.com google.com google.com stackoverflow.com google.com scikit-learn.org localhost:8889 goo.gl icloud.com icloud.com hotmail.com hotmail.com mail.live.com login.live.com bay169.mail.live.com bay169.mail.live.com bay169.mail.live.com bay169.mail.live.com bay169.mail.live.com bay169.mail.live.com bay169.mail.live.com bay169.mail.live.com bay169.mail.live.com bay169.mail.live.com bay169.mail.live.com bay169.mail.live.com bay169.mail.live.com bay169.mail.live.com bay169.mail.live.com hotmail.com localhost:8888 localhost:8888 trulia.com google.com google.com google.com lifehappens.org home.eease.com intranet intranet intranet intranet intranet intranet daz02sql2700.corp.homestore.net:50030 daz02sql2700.corp.homestore.net:50030 daz02sql2700.corp.homestore.net:50030 daz02sql2700.corp.homestore.net:50030 daz02sql2700.corp.homestore.net:50030 daz02sql2700.corp.homestore.net:51111 daz02sql2700.corp.homestore.net:50030 daz02sql2700.corp.homestore.net:50030 daz02sql2700.corp.homestore.net:50030 daz02sql2700.corp.homestore.net:50030 daz02sql2700.corp.homestore.net:50030 jira jira jira "
       ]
      },
      {
       "output_type": "stream",
       "stream": "stdout",
       "text": [
        "jira jira jira jira jira trulia.com trends.truliablog.com trulia.com trulia.com trulia.com trulia.com trulia.com trulia.com info.trulia.com trulia.com google.com scikit-learn.org scikit-learn.org google.com google.com google.com docs.scipy.org google.com cse3521.artifice.cc google.com pan.oxfordjournals.org google.com google.com docs.python.org google.com google.com googleadservices.com t.onrampadvertising.com farespotter.net farespotter.net rd.bookingbuddy.com bookingbuddy.com bookingbuddy.com bookingbuddy.com bookingbuddy.com priceline.com priceline.com priceline.com priceline.com google.com stackoverflow.com google.com edd.ca.gov google.com google.com google.com google.com stackoverflow.com google.com google.com google.com google.com google.com oracle.com google.com google.com google.com ncbi.nlm.nih.gov google.com bugs.python.org google.com google.com google.com google.com nbviewer.ipython.org bay169.mail.live.com google.com google.com google.com code.activestate.com google.com google.com stackoverflow.com google.com google.com google.com google.com google.com google.com dev.bizo.com google.com scikit-learn.org scikit-learn.org google.com google.com google.com google.com stackoverflow.com google.com google.com nbviewer.ipython.org google.com google.com google.com google.com google.com stackoverflow.com google.com google.com maps.google.com "
       ]
      },
      {
       "output_type": "stream",
       "stream": "stdout",
       "text": [
        "google.com google.com forums.devshed.com google.com google.com scikit-learn.org google.com google.com google.com pan.oxfordjournals.org google.com google.com google.com stackoverflow.com google.com google.com google.com google.com google.com mondaypunday.com mondaypunday.com mondaypunday.com epimodels.org localhost:8888 google.com google.com google.com scikit-learn.org google.com google.com www1.aetna.com www1.aetna.com www1.aetna.com www1.aetna.com www1.aetna.com www1.aetna.com www1.aetna.com www1.aetna.com www1.aetna.com www1.aetna.com www1.aetna.com www1.aetna.com www1.aetna.com www1.aetna.com google.com stackoverflow.com google.com google.com google.com google.com google.com graphlab.com google.com stackoverflow.com google.com google.com google.com google.com nbviewer.ipython.org google.com google.com google.com stackoverflow.com google.com google.com google.com dl.acm.org google.com google.com google.com google.com google.com google.com google.com amazon.com amazon.com amazon.com amazon.com amazon.com bay169.mail.live.com bay169.mail.live.com bay169.mail.live.com bay169.mail.live.com bay169.mail.live.com bay169.mail.live.com bay169.mail.live.com bay169.mail.live.com bay169.mail.live.com bay169.mail.live.com bay169.mail.live.com bay169.mail.live.com bay169.mail.live.com bay169.mail.live.com bay169.mail.live.com bay169.mail.live.com bay169.mail.live.com "
       ]
      },
      {
       "output_type": "stream",
       "stream": "stdout",
       "text": [
        "google.com google.com coderwall.com goo.gl icloud.com localhost:8889 goo.gl icloud.com daz02sql2700.corp.homestore.net:50030 daz02sql2700.corp.homestore.net:50030 daz02sql2700.corp.homestore.net:50030 daz02sql2700.corp.homestore.net:50030 daz02sql2700.corp.homestore.net:50030 daz02sql2700.corp.homestore.net:50030 daz02sql2700.corp.homestore.net:50030 daz02sql2700.corp.homestore.net:50030 daz02sql2700.corp.homestore.net:50030 daz02sql2700.corp.homestore.net:51111 daz02sql2700.corp.homestore.net:51111 daz02sql2700.corp.homestore.net:51111 daz02sql2700.corp.homestore.net:51111 daz02sql2700.corp.homestore.net:51111 daz02sql2700.corp.homestore.net:51111 daz02sql2700.corp.homestore.net:50030 daz02sql2700.corp.homestore.net:50030 daz02sql2700.corp.homestore.net:50030 daz02sql2700.corp.homestore.net:50030 daz02sql2700.corp.homestore.net:50030 daz02sql2700.corp.homestore.net:50030 daz02sql2700.corp.homestore.net:50030 daz02sql2700.corp.homestore.net:50030 daz02sql2700.corp.homestore.net:50030 daz02sql2700.corp.homestore.net:50030 daz02sql2700.corp.homestore.net:50030 daz02sql2700.corp.homestore.net:50030 daz02sql2700.corp.homestore.net:50030 daz02sql2700.corp.homestore.net:50030 daz02sql2700.corp.homestore.net:50030 daz02sql2700.corp.homestore.net:50030 daz02sql2700.corp.homestore.net:50030 daz02sql2700.corp.homestore.net:51111 daz02sql2700.corp.homestore.net:51111 daz02sql2700.corp.homestore.net:50030 daz02sql2700.corp.homestore.net:50030 daz02sql2700.corp.homestore.net:50030 daz02sql2700.corp.homestore.net:50030 daz02sql2700.corp.homestore.net:50030 daz02sql2700.corp.homestore.net:50030 goo.gl icloud.com google.com google.com stackoverflow.com google.com stackoverflow.com google.com google.com localhost:8888 localhost:8888 google.com google.com google.com discussions.apple.com google.com scikit-learn.org google.com stackoverflow.com google.com google.com google.com google.com google.com google.com google.com lifehappens.org home.eease.com home.eease.com google.com stackoverflow.com hotmail.com m.yelp.com youtube.com class.coursera.org technocalifornia.blogspot.com slideshare.net slideshare.net slideshare.net slideshare.net slideshare.net slideshare.net github.com github.com github.com github.com google.com stackoverflow.com google.com google.com google.com google.com google.com mail.live.com bay169.mail.live.com bay169.mail.live.com bay169.mail.live.com bay169.mail.live.com bay169.mail.live.com "
       ]
      },
      {
       "output_type": "stream",
       "stream": "stdout",
       "text": [
        "bay169.mail.live.com bay169.mail.live.com bay169.mail.live.com bay169.mail.live.com bay169.mail.live.com gmail.com mail.google.com mail.google.com in.xero.com bay169.mail.live.com bay169.mail.live.com bay169.mail.live.com bay169.mail.live.com bay169.mail.live.com bay169.mail.live.com bay169.mail.live.com bay169.mail.live.com bay169.mail.live.com bay169.mail.live.com bay169.mail.live.com bay169.mail.live.com bay169.mail.live.com bay169.mail.live.com bay169.mail.live.com google.com google.com infoworld.com youtube.com brianckeegan.com simplystatistics.org i2.wp.com google.com google.com charlesleifer.com google.com google.com localhost:8888 localhost:8888 localhost:8888 localhost:8889 localhost:8889 localhost:8889 localhost:8889 localhost:8889 google.com google.com google.com scikit-learn.org scikit-learn.org stackoverflow.com google.com nbviewer.ipython.org google.com google.com google.com cwiki.apache.org google.com google.com google.com google.com google.com pysom.codeplex.com google.com mywiki.wooledge.org mywiki.wooledge.org mywiki.wooledge.org mywiki.wooledge.org mywiki.wooledge.org google.com google.com google.com google.com google.com google.com google.com researchgate.net google.com google.com pandas.pydata.org google.com stats.stackexchange.com google.com google.com coldfusion.sys-con.com google.com doc.mapr.com doc.mapr.com doc.mapr.com google.com google.com stackoverflow.com bay169.mail.live.com bay169.mail.live.com bay169.mail.live.com bay169.mail.live.com bay169.mail.live.com\n"
       ]
      }
     ],
     "prompt_number": 26
    },
    {
     "cell_type": "code",
     "collapsed": false,
     "input": [],
     "language": "python",
     "metadata": {},
     "outputs": [],
     "prompt_number": 26
    },
    {
     "cell_type": "markdown",
     "metadata": {},
     "source": [
      "###Additional Path Analysis"
     ]
    },
    {
     "cell_type": "code",
     "collapsed": false,
     "input": [],
     "language": "python",
     "metadata": {},
     "outputs": [],
     "prompt_number": 26
    },
    {
     "cell_type": "code",
     "collapsed": false,
     "input": [],
     "language": "python",
     "metadata": {},
     "outputs": [],
     "prompt_number": 26
    },
    {
     "cell_type": "code",
     "collapsed": false,
     "input": [],
     "language": "python",
     "metadata": {},
     "outputs": [],
     "prompt_number": 39
    },
    {
     "cell_type": "code",
     "collapsed": false,
     "input": [],
     "language": "python",
     "metadata": {},
     "outputs": []
    }
   ],
   "metadata": {}
  }
 ]
}